{
 "cells": [
  {
   "cell_type": "markdown",
   "id": "b8ddd339",
   "metadata": {},
   "source": [
    "# question 01"
   ]
  },
  {
   "cell_type": "raw",
   "id": "7a78da23",
   "metadata": {},
   "source": [
    "Flask is a micro web framework written in Python that provides a lightweight and flexible way to create web applications. It is designed to be simple, easy to learn and use, and allows developers to quickly build web applications with minimal boilerplate code.\n",
    "\n",
    "The main advantages of Flask are:\n",
    "\n",
    "Lightweight: Flask is a lightweight framework with minimal dependencies, which makes it easy to install and use.\n",
    "\n",
    "Flexible: Flask provides a flexible architecture that allows developers to choose the tools and libraries they want to use to build their applications.\n",
    "\n",
    "Modular: Flask is designed to be modular, with a core set of features and extensions that can be added as needed to support specific functionality.\n",
    "\n",
    "Easy to learn: Flask is easy to learn and use, especially for developers who are already familiar with Python.\n",
    "\n",
    "Extensible: Flask can be extended using a variety of plugins and extensions, which can add functionality for things like database integration, authentication, and more.\n",
    "\n",
    "Large community: Flask has a large and active community of developers who contribute to its development, provide support, and create extensions and plugins.\n",
    "\n",
    "Overall, Flask is a popular choice for developers who want a lightweight and flexible framework for building web applications. Its simplicity, modularity, and extensibility make it a good choice for a wide range of projects, from small prototypes to large-scale applications."
   ]
  },
  {
   "cell_type": "markdown",
   "id": "2ac10ff5",
   "metadata": {},
   "source": [
    "# question 02"
   ]
  },
  {
   "cell_type": "code",
   "execution_count": null,
   "id": "40a37bae",
   "metadata": {},
   "outputs": [
    {
     "name": "stdout",
     "output_type": "stream",
     "text": [
      " * Serving Flask app \"__main__\" (lazy loading)\n",
      " * Environment: production\n",
      "\u001b[31m   WARNING: This is a development server. Do not use it in a production deployment.\u001b[0m\n",
      "\u001b[2m   Use a production WSGI server instead.\u001b[0m\n",
      " * Debug mode: off\n"
     ]
    },
    {
     "name": "stderr",
     "output_type": "stream",
     "text": [
      " * Running on http://127.0.0.1:5000/ (Press CTRL+C to quit)\n"
     ]
    }
   ],
   "source": [
    "from flask import Flask\n",
    "\n",
    "app = Flask(__name__)\n",
    "\n",
    "@app.route('/')\n",
    "def hello():\n",
    "    return 'Hello World!'\n",
    "\n",
    "if __name__ == '__main__':\n",
    "    app.run()\n"
   ]
  },
  {
   "cell_type": "markdown",
   "id": "ccd7bec5",
   "metadata": {},
   "source": [
    "# question 03"
   ]
  },
  {
   "cell_type": "raw",
   "id": "cbed59ca",
   "metadata": {},
   "source": [
    "In Flask, app routing refers to the process of mapping URL patterns to view functions. When a user requests a URL, Flask uses the app routes defined in the application to determine which view function should handle the request and generate the response.\n",
    "\n",
    "App routes are used in Flask to define the behavior of the application for different URLs. By defining routes, developers can control which view function will handle requests to specific URLs, and define the logic for how those requests should be processed and the response generated.\n",
    "\n",
    "App routes are important for creating clean and maintainable code in Flask applications, as they allow developers to separate the application logic into different functions and modules, and define clear entry points for each part of the application.\n",
    "\n",
    "For example, if we have a web application that needs to display a page with a list of products, we can define an app route like this:"
   ]
  },
  {
   "cell_type": "code",
   "execution_count": null,
   "id": "507856c2",
   "metadata": {},
   "outputs": [],
   "source": [
    "@app.route('/products')\n",
    "def list_products():\n",
    "    # retrieve list of products from the database\n",
    "    products = get_products()\n",
    "\n",
    "    # render the HTML template with the list of products\n",
    "    return render_template('products.html', products=products)\n"
   ]
  },
  {
   "cell_type": "markdown",
   "id": "8577dd37",
   "metadata": {},
   "source": [
    "# question 4"
   ]
  },
  {
   "cell_type": "code",
   "execution_count": null,
   "id": "505d2450",
   "metadata": {},
   "outputs": [],
   "source": [
    "from flask import Flask\n",
    "\n",
    "app = Flask(__name__)\n",
    "\n",
    "# Route to display the welcome message\n",
    "@app.route('/welcome')\n",
    "def welcome():\n",
    "    return 'Welcome to ABC Corporation'\n",
    "\n",
    "# Route to display company information\n",
    "@app.route('/')\n",
    "def company_info():\n",
    "    return 'Company Name: ABC Corporation<br>Location: India<br>Contact Detail: 999-999-9999'\n",
    "\n",
    "if __name__ == '__main__':\n",
    "    app.run()\n"
   ]
  },
  {
   "cell_type": "markdown",
   "id": "3a1792f2",
   "metadata": {},
   "source": [
    "# question 05"
   ]
  },
  {
   "cell_type": "code",
   "execution_count": null,
   "id": "bd8fd092",
   "metadata": {},
   "outputs": [],
   "source": [
    "from flask import Flask, url_for\n",
    "\n",
    "app = Flask(__name__)\n",
    "\n",
    "@app.route('/hello/<name>')\n",
    "def hello(name):\n",
    "    return 'Hello, %s!' % name\n",
    "\n",
    "@app.route('/')\n",
    "def index():\n",
    "    # Build URL for the 'hello' function with the name parameter set to 'World'\n",
    "    hello_url = url_for('hello', name='World')\n",
    "    return 'Visit the hello page: %s' % hello_url\n",
    "\n",
    "if __name__ == '__main__':\n",
    "    app.run()\n"
   ]
  }
 ],
 "metadata": {
  "kernelspec": {
   "display_name": "Python 3 (ipykernel)",
   "language": "python",
   "name": "python3"
  },
  "language_info": {
   "codemirror_mode": {
    "name": "ipython",
    "version": 3
   },
   "file_extension": ".py",
   "mimetype": "text/x-python",
   "name": "python",
   "nbconvert_exporter": "python",
   "pygments_lexer": "ipython3",
   "version": "3.9.12"
  }
 },
 "nbformat": 4,
 "nbformat_minor": 5
}
